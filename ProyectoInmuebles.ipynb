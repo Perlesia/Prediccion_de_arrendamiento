{
  "nbformat": 4,
  "nbformat_minor": 0,
  "metadata": {
    "colab": {
      "provenance": [],
      "authorship_tag": "ABX9TyMi1VwDNIRmDtMvdW1K9zOF",
      "include_colab_link": true
    },
    "kernelspec": {
      "name": "python3",
      "display_name": "Python 3"
    },
    "language_info": {
      "name": "python"
    }
  },
  "cells": [
    {
      "cell_type": "markdown",
      "metadata": {
        "id": "view-in-github",
        "colab_type": "text"
      },
      "source": [
        "<a href=\"https://colab.research.google.com/github/Perlesia/Prediccion_de_arrendamiento/blob/main/ProyectoInmuebles.ipynb\" target=\"_parent\"><img src=\"https://colab.research.google.com/assets/colab-badge.svg\" alt=\"Open In Colab\"/></a>"
      ]
    },
    {
      "cell_type": "markdown",
      "source": [
        "#SISTEMA INTELIGENTE PARA LA PREDICCIÓN DEL TIEMPO DE ARRENDAMIENTO DE INMUEBLES\n",
        "##Escuela Tecnologica Instituto Tecnico Central\n",
        "###Sistemas\n",
        "####Daniel Solorzano Bertin\n",
        "####Andres Felipe Contreras\n",
        "####Profesor: Elias Buitrago Bolivar\n",
        "####19/09/2023"
      ],
      "metadata": {
        "id": "earV0olb2sy_"
      }
    },
    {
      "cell_type": "code",
      "execution_count": null,
      "metadata": {
        "id": "d7o-kYnu2mWS"
      },
      "outputs": [],
      "source": []
    }
  ]
}